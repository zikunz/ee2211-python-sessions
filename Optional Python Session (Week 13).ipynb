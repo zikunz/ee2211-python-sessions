{
 "cells": [
  {
   "cell_type": "markdown",
   "metadata": {
    "slideshow": {
     "slide_type": "slide"
    }
   },
   "source": [
    "<div style=\"width: 100%; padding: 20px;\">\n",
    "    <center>\n",
    "        <img src=\"Images/nus_logo.png\" width=\"200\" style=\"margin-bottom: 30px;\">\n",
    "    </center>\n",
    "    <div style=\"font-size: 45px; color:#002147; font-weight: bold; text-align: center; margin-bottom: 50px;\">\n",
    "        EE2211 Introduction to Machine Learning\n",
    "    </div>\n",
    "    <div style=\"font-size: 32px; color:#FF6F00; text-align: center; margin-bottom: 30px; font-weight: normal;\">\n",
    "        Optional Python Session (Week 13)\n",
    "    </div>\n",
    "    <hr style=\"border: none; border-top: 2px solid #002147; width: 80%; margin: 0 auto 30px auto;\">\n",
    "    <p style=\"text-align:right; font-size: 18px; font-weight: normal; margin-right: 20px;\">\n",
    "        <strong>Mr. ZHU, Zikun</strong><br>\n",
    "        Department of Electrical and Computer Engineering\n",
    "    </p>\n",
    "</div>"
   ]
  },
  {
   "cell_type": "code",
   "execution_count": 1,
   "metadata": {},
   "outputs": [
    {
     "name": "stdout",
     "output_type": "stream",
     "text": [
      "Gini A:  0.6481481481481481\n",
      "Entropy B:  0.9709505944546686\n",
      "Misclassification C:  0.375\n"
     ]
    }
   ],
   "source": [
    "from math import log\n",
    "def calcGini(n):\n",
    "    res = 1\n",
    "    for i in n:\n",
    "        res -= i**2\n",
    "    return res\n",
    "def calcEntropy(n):\n",
    "    res = 0\n",
    "    for i in n:\n",
    "        if i > 0:\n",
    "            res += i * log(i, 2)\n",
    "    return res * -1\n",
    "def calcMisclassRate(n):\n",
    "    return 1 - max(n)\n",
    "\n",
    "import numpy as np\n",
    "# p1: blue, p2: red, p3: orange\n",
    "A = np.array([8/18, 5/18, 5/18])\n",
    "B = np.array([6/10, 4/10, 0/10])\n",
    "C = np.array([2/8, 1/8, 5/8])\n",
    "\n",
    "print(\"Gini A: \", calcGini(A))\n",
    "print(\"Entropy B: \", calcEntropy(B))\n",
    "print(\"Misclassification C: \", calcMisclassRate(C))"
   ]
  },
  {
   "cell_type": "markdown",
   "metadata": {},
   "source": [
    "# THE END\n",
    "\n",
    "Feedback link: https://forms.gle/HdHMeF6Kkf9vLyia9.\n",
    "\n",
    "Contact me if you have any questions!"
   ]
  }
 ],
 "metadata": {
  "celltoolbar": "Slideshow",
  "kernelspec": {
   "display_name": "Python 3 (ipykernel)",
   "language": "python",
   "name": "python3"
  },
  "language_info": {
   "codemirror_mode": {
    "name": "ipython",
    "version": 3
   },
   "file_extension": ".py",
   "mimetype": "text/x-python",
   "name": "python",
   "nbconvert_exporter": "python",
   "pygments_lexer": "ipython3",
   "version": "3.11.5"
  },
  "rise": {
   "help": "false"
  }
 },
 "nbformat": 4,
 "nbformat_minor": 4
}
